{
 "cells": [
  {
   "cell_type": "code",
   "execution_count": 1,
   "id": "b3f88fc9",
   "metadata": {},
   "outputs": [],
   "source": [
    "def functie_cu_parametri_dinamici(*args, **kwargs):\n",
    "    print(args, type(args))\n",
    "    print(kwargs, type(kwargs))"
   ]
  },
  {
   "cell_type": "code",
   "execution_count": 2,
   "id": "bd173d26",
   "metadata": {},
   "outputs": [
    {
     "name": "stdout",
     "output_type": "stream",
     "text": [
      "(10, 20, 30) <class 'tuple'>\n",
      "{'nume': 'Ion', 'prenume': 'Popescu'} <class 'dict'>\n"
     ]
    }
   ],
   "source": [
    "functie_cu_parametri_dinamici(10, 20, 30, nume=\"Ion\", prenume=\"Popescu\")"
   ]
  },
  {
   "cell_type": "code",
   "execution_count": 3,
   "id": "7b1befa0",
   "metadata": {},
   "outputs": [],
   "source": [
    "def ridica_la_patrat(x=5) -> int:\n",
    "    return x ** 2"
   ]
  },
  {
   "cell_type": "code",
   "execution_count": 4,
   "id": "d105ae0f",
   "metadata": {},
   "outputs": [
    {
     "data": {
      "text/plain": [
       "100"
      ]
     },
     "execution_count": 4,
     "metadata": {},
     "output_type": "execute_result"
    }
   ],
   "source": [
    "ridica_la_patrat(10)"
   ]
  },
  {
   "cell_type": "code",
   "execution_count": 5,
   "id": "825eb1e8",
   "metadata": {},
   "outputs": [
    {
     "data": {
      "text/plain": [
       "25"
      ]
     },
     "execution_count": 5,
     "metadata": {},
     "output_type": "execute_result"
    }
   ],
   "source": [
    "ridica_la_patrat()"
   ]
  },
  {
   "cell_type": "code",
   "execution_count": 6,
   "id": "ecbd0e3c",
   "metadata": {},
   "outputs": [
    {
     "data": {
      "text/plain": [
       "5.289999999999999"
      ]
     },
     "execution_count": 6,
     "metadata": {},
     "output_type": "execute_result"
    }
   ],
   "source": [
    "ridica_la_patrat(2.3)"
   ]
  }
 ],
 "metadata": {
  "kernelspec": {
   "display_name": "Python 3",
   "language": "python",
   "name": "python3"
  },
  "language_info": {
   "codemirror_mode": {
    "name": "ipython",
    "version": 3
   },
   "file_extension": ".py",
   "mimetype": "text/x-python",
   "name": "python",
   "nbconvert_exporter": "python",
   "pygments_lexer": "ipython3",
   "version": "3.13.7"
  }
 },
 "nbformat": 4,
 "nbformat_minor": 5
}
