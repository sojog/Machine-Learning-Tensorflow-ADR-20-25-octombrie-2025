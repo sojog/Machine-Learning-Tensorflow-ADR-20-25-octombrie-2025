{
 "cells": [
  {
   "cell_type": "markdown",
   "id": "95ce680e",
   "metadata": {},
   "source": [
    "# pip install scikit-learn"
   ]
  },
  {
   "cell_type": "code",
   "execution_count": 2,
   "id": "fcfaae43",
   "metadata": {},
   "outputs": [],
   "source": [
    "import sklearn"
   ]
  },
  {
   "cell_type": "markdown",
   "id": "875b2fbd",
   "metadata": {},
   "source": []
  },
  {
   "cell_type": "code",
   "execution_count": 3,
   "id": "16315849",
   "metadata": {},
   "outputs": [
    {
     "data": {
      "text/plain": [
       "'1.7.2'"
      ]
     },
     "execution_count": 3,
     "metadata": {},
     "output_type": "execute_result"
    }
   ],
   "source": [
    "sklearn.__version__"
   ]
  },
  {
   "cell_type": "code",
   "execution_count": 4,
   "id": "cc00c8f7",
   "metadata": {},
   "outputs": [],
   "source": [
    "import sklearn.datasets"
   ]
  },
  {
   "cell_type": "code",
   "execution_count": 5,
   "id": "366ac4ff",
   "metadata": {},
   "outputs": [
    {
     "name": "stdout",
     "output_type": "stream",
     "text": [
      "Utilities to load popular datasets and artificial data generators.\n"
     ]
    }
   ],
   "source": [
    "print(sklearn.datasets.__doc__)"
   ]
  },
  {
   "cell_type": "code",
   "execution_count": 6,
   "id": "6aea0b95",
   "metadata": {},
   "outputs": [],
   "source": [
    "from sklearn.datasets import make_regression"
   ]
  },
  {
   "cell_type": "code",
   "execution_count": 7,
   "id": "2f903b8f",
   "metadata": {},
   "outputs": [
    {
     "data": {
      "text/plain": [
       "(tuple, 2)"
      ]
     },
     "execution_count": 7,
     "metadata": {},
     "output_type": "execute_result"
    }
   ],
   "source": [
    "regression_result = make_regression(n_samples=5, n_features=3)\n",
    "\n",
    "type(regression_result), len(regression_result)"
   ]
  },
  {
   "cell_type": "code",
   "execution_count": 8,
   "id": "86d8320a",
   "metadata": {},
   "outputs": [],
   "source": [
    "x, y = regression_result"
   ]
  },
  {
   "cell_type": "code",
   "execution_count": 9,
   "id": "c8487756",
   "metadata": {},
   "outputs": [
    {
     "data": {
      "text/plain": [
       "(numpy.ndarray, numpy.ndarray, (5, 3), (5,))"
      ]
     },
     "execution_count": 9,
     "metadata": {},
     "output_type": "execute_result"
    }
   ],
   "source": [
    "type(x), type(y), x.shape, y.shape"
   ]
  },
  {
   "cell_type": "code",
   "execution_count": 10,
   "id": "63c941f8",
   "metadata": {},
   "outputs": [
    {
     "data": {
      "text/plain": [
       "array([[-0.89580465, -0.02122701,  0.78086769],\n",
       "       [ 1.99916364,  1.20069986,  0.0684551 ],\n",
       "       [ 0.80037032,  0.35027688,  0.1817647 ],\n",
       "       [-0.41919737, -0.09842595,  1.09156465],\n",
       "       [ 0.32166504,  1.54484115,  1.42530847]])"
      ]
     },
     "execution_count": 10,
     "metadata": {},
     "output_type": "execute_result"
    }
   ],
   "source": [
    "x"
   ]
  },
  {
   "cell_type": "code",
   "execution_count": 11,
   "id": "59e439d8",
   "metadata": {},
   "outputs": [
    {
     "data": {
      "text/plain": [
       "(array([[ 0.9953456 ],\n",
       "        [-0.26649315],\n",
       "        [ 0.51698392],\n",
       "        [ 0.96612326],\n",
       "        [-0.4564894 ],\n",
       "        [-2.45864533],\n",
       "        [ 3.21903272],\n",
       "        [ 0.0052887 ],\n",
       "        [-1.14811104],\n",
       "        [-0.44882564]]),\n",
       " array([  58.3743599 ,  -17.29628392,   31.89853988,   58.69695809,\n",
       "         -29.40170803, -136.72190279,  184.01649481,    1.8097638 ,\n",
       "         -66.90202064,  -25.03123057]))"
      ]
     },
     "execution_count": 11,
     "metadata": {},
     "output_type": "execute_result"
    }
   ],
   "source": [
    "regression_data = make_regression(n_samples=10, n_features=1, noise=5)\n",
    "x, y = regression_data\n",
    "x, y"
   ]
  },
  {
   "cell_type": "code",
   "execution_count": 12,
   "id": "2843c1dc",
   "metadata": {},
   "outputs": [],
   "source": [
    "import matplotlib.pyplot as plt"
   ]
  },
  {
   "cell_type": "code",
   "execution_count": 13,
   "id": "496cc9bb",
   "metadata": {},
   "outputs": [
    {
     "data": {
      "text/plain": [
       "<matplotlib.collections.PathCollection at 0x11b8b0590>"
      ]
     },
     "execution_count": 13,
     "metadata": {},
     "output_type": "execute_result"
    },
    {
     "data": {
      "image/png": "[encoded data removed]",
      "text/plain": [
       "<Figure size 640x480 with 1 Axes>"
      ]
     },
     "metadata": {},
     "output_type": "display_data"
    }
   ],
   "source": [
    "plt.scatter(x, y, c=\"red\")\n",
    "# plt.plot(x, y)"
   ]
  },
  {
   "cell_type": "code",
   "execution_count": 14,
   "id": "cf1f8ef5",
   "metadata": {},
   "outputs": [
    {
     "data": {
      "text/plain": [
       "(array([[ 0.9953456 ],\n",
       "        [-0.26649315],\n",
       "        [ 0.51698392],\n",
       "        [ 0.96612326],\n",
       "        [-0.4564894 ],\n",
       "        [-2.45864533],\n",
       "        [ 3.21903272],\n",
       "        [ 0.0052887 ],\n",
       "        [-1.14811104],\n",
       "        [-0.44882564]]),\n",
       " array([  58.3743599 ,  -17.29628392,   31.89853988,   58.69695809,\n",
       "         -29.40170803, -136.72190279,  184.01649481,    1.8097638 ,\n",
       "         -66.90202064,  -25.03123057]))"
      ]
     },
     "execution_count": 14,
     "metadata": {},
     "output_type": "execute_result"
    }
   ],
   "source": [
    "x, y"
   ]
  },
  {
   "cell_type": "code",
   "execution_count": 15,
   "id": "2a30b8dd",
   "metadata": {},
   "outputs": [],
   "source": [
    "from scipy import stats"
   ]
  },
  {
   "cell_type": "code",
   "execution_count": 16,
   "id": "5fd0aaef",
   "metadata": {},
   "outputs": [
    {
     "data": {
      "text/plain": [
       "(10, 1)"
      ]
     },
     "execution_count": 16,
     "metadata": {},
     "output_type": "execute_result"
    }
   ],
   "source": [
    "x.shape"
   ]
  },
  {
   "cell_type": "code",
   "execution_count": 17,
   "id": "5a932dcd",
   "metadata": {},
   "outputs": [
    {
     "data": {
      "text/plain": [
       "array([ 0.9953456 , -0.26649315,  0.51698392,  0.96612326, -0.4564894 ,\n",
       "       -2.45864533,  3.21903272,  0.0052887 , -1.14811104, -0.44882564])"
      ]
     },
     "execution_count": 17,
     "metadata": {},
     "output_type": "execute_result"
    }
   ],
   "source": [
    "x.flatten()"
   ]
  },
  {
   "cell_type": "code",
   "execution_count": 18,
   "id": "2b293abe",
   "metadata": {},
   "outputs": [
    {
     "data": {
      "text/plain": [
       "LinregressResult(slope=np.float64(57.1285122356823), intercept=np.float64(0.664424883599354), rvalue=np.float64(0.9996274926788057), pvalue=np.float64(8.420214625647478e-14), stderr=np.float64(0.5514570390203009), intercept_stderr=np.float64(0.787590325618681))"
      ]
     },
     "execution_count": 18,
     "metadata": {},
     "output_type": "execute_result"
    }
   ],
   "source": [
    "reg_result = stats.linregress(x.flatten(), y)\n",
    "reg_result"
   ]
  },
  {
   "cell_type": "code",
   "execution_count": 19,
   "id": "417cc425",
   "metadata": {},
   "outputs": [
    {
     "data": {
      "text/plain": [
       "[<matplotlib.lines.Line2D at 0x11b96f610>]"
      ]
     },
     "execution_count": 19,
     "metadata": {},
     "output_type": "execute_result"
    },
    {
     "data": {
      "image/png": "[encoded data removed]",
      "text/plain": [
       "<Figure size 640x480 with 1 Axes>"
      ]
     },
     "metadata": {},
     "output_type": "display_data"
    }
   ],
   "source": [
    "plt.scatter(x, y, c=\"red\")\n",
    "plt.plot(x, x * reg_result.slope + reg_result.intercept, c=\"green\")"
   ]
  },
  {
   "cell_type": "code",
   "execution_count": null,
   "id": "e29eabb0",
   "metadata": {},
   "outputs": [],
   "source": []
  },
  {
   "cell_type": "code",
   "execution_count": 20,
   "id": "7c81aab9",
   "metadata": {},
   "outputs": [
    {
     "data": {
      "text/plain": [
       "[<matplotlib.lines.Line2D at 0x11b9f2e90>]"
      ]
     },
     "execution_count": 20,
     "metadata": {},
     "output_type": "execute_result"
    },
    {
     "data": {
      "image/png": "[encoded data removed]",
      "text/plain": [
       "<Figure size 640x480 with 1 Axes>"
      ]
     },
     "metadata": {},
     "output_type": "display_data"
    }
   ],
   "source": [
    "plt.scatter(x, y, c=\"#6CDC17\")\n",
    "plt.plot(x, x * reg_result.slope + reg_result.intercept, c=\"#5858AC\")"
   ]
  },
  {
   "cell_type": "code",
   "execution_count": 21,
   "id": "be2b070a",
   "metadata": {},
   "outputs": [
    {
     "data": {
      "text/plain": [
       "[<matplotlib.lines.Line2D at 0x11ba7de50>]"
      ]
     },
     "execution_count": 21,
     "metadata": {},
     "output_type": "execute_result"
    },
    {
     "data": {
      "image/png": "[encoded data removed]",
      "text/plain": [
       "<Figure size 640x480 with 1 Axes>"
      ]
     },
     "metadata": {},
     "output_type": "display_data"
    }
   ],
   "source": [
    "regression_data = make_regression(n_samples=1000, n_features=1, noise=5)\n",
    "x, y = regression_data\n",
    "reg_result = stats.linregress(x.flatten(), y)\n",
    "plt.scatter(x, y, c=\"#6CDC17\")\n",
    "plt.plot(x, x * reg_result.slope + reg_result.intercept, c=\"#5858AC\")"
   ]
  },
  {
   "cell_type": "code",
   "execution_count": 28,
   "id": "ac0c2c1b",
   "metadata": {},
   "outputs": [
    {
     "data": {
      "text/plain": [
       "array([[-8.30194839e-02,  1.41497599e+00,  2.96810262e-03, ...,\n",
       "        -6.15371854e-01, -1.15674613e+00, -2.42945442e-01],\n",
       "       [-4.59291220e-01,  1.84583647e+00,  1.32052941e+00, ...,\n",
       "         1.82302796e-02,  7.49844383e-01,  1.19652559e+00],\n",
       "       [-9.92204052e-01,  7.87368549e-01, -1.06009605e+00, ...,\n",
       "         4.33397008e-01, -9.49391579e-01,  1.28331401e+00],\n",
       "       ...,\n",
       "       [-6.75207610e-02, -7.83212235e-01,  1.55114714e-01, ...,\n",
       "         1.02334132e+00, -2.42094324e-01,  5.68833725e-01],\n",
       "       [-7.26344139e-01, -1.87389615e+00,  5.50860341e-01, ...,\n",
       "        -9.53791313e-02,  2.37883642e-01, -1.55942633e-01],\n",
       "       [ 3.33256496e+00, -6.96428102e-01, -7.35019202e-01, ...,\n",
       "         9.80594641e-01, -8.85954968e-01,  4.01104420e-01]],\n",
       "      shape=(506, 13))"
      ]
     },
     "execution_count": 28,
     "metadata": {},
     "output_type": "execute_result"
    }
   ],
   "source": [
    "regression_data = make_regression(n_samples=506, n_features=13, noise=5)\n",
    "x, y = regression_data\n",
    "x"
   ]
  },
  {
   "cell_type": "code",
   "execution_count": null,
   "id": "b9c685ba",
   "metadata": {},
   "outputs": [],
   "source": []
  }
 ],
 "metadata": {
  "kernelspec": {
   "display_name": "Python 3",
   "language": "python",
   "name": "python3"
  },
  "language_info": {
   "codemirror_mode": {
    "name": "ipython",
    "version": 3
   },
   "file_extension": ".py",
   "mimetype": "text/x-python",
   "name": "python",
   "nbconvert_exporter": "python",
   "pygments_lexer": "ipython3",
   "version": "3.13.7"
  }
 },
 "nbformat": 4,
 "nbformat_minor": 5
}
