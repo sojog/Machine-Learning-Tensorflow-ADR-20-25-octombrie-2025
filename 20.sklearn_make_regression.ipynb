{
 "cells": [
  {
   "cell_type": "markdown",
   "id": "95ce680e",
   "metadata": {},
   "source": [
    "# pip install scikit-learn"
   ]
  },
  {
   "cell_type": "code",
   "execution_count": 876,
   "id": "fcfaae43",
   "metadata": {},
   "outputs": [],
   "source": [
    "import sklearn"
   ]
  },
  {
   "cell_type": "markdown",
   "id": "875b2fbd",
   "metadata": {},
   "source": []
  },
  {
   "cell_type": "code",
   "execution_count": 877,
   "id": "16315849",
   "metadata": {},
   "outputs": [
    {
     "data": {
      "text/plain": [
       "'1.7.2'"
      ]
     },
     "execution_count": 877,
     "metadata": {},
     "output_type": "execute_result"
    }
   ],
   "source": [
    "sklearn.__version__"
   ]
  },
  {
   "cell_type": "code",
   "execution_count": 878,
   "id": "cc00c8f7",
   "metadata": {},
   "outputs": [],
   "source": [
    "import sklearn.datasets"
   ]
  },
  {
   "cell_type": "code",
   "execution_count": 879,
   "id": "366ac4ff",
   "metadata": {},
   "outputs": [
    {
     "name": "stdout",
     "output_type": "stream",
     "text": [
      "Utilities to load popular datasets and artificial data generators.\n"
     ]
    }
   ],
   "source": [
    "print(sklearn.datasets.__doc__)"
   ]
  },
  {
   "cell_type": "code",
   "execution_count": 880,
   "id": "6aea0b95",
   "metadata": {},
   "outputs": [],
   "source": [
    "from sklearn.datasets import make_regression"
   ]
  },
  {
   "cell_type": "code",
   "execution_count": 881,
   "id": "2f903b8f",
   "metadata": {},
   "outputs": [
    {
     "data": {
      "text/plain": [
       "(tuple, 2)"
      ]
     },
     "execution_count": 881,
     "metadata": {},
     "output_type": "execute_result"
    }
   ],
   "source": [
    "regression_result = make_regression(n_samples=5, n_features=3)\n",
    "\n",
    "type(regression_result), len(regression_result)"
   ]
  },
  {
   "cell_type": "code",
   "execution_count": 882,
   "id": "86d8320a",
   "metadata": {},
   "outputs": [],
   "source": [
    "x, y = regression_result"
   ]
  },
  {
   "cell_type": "code",
   "execution_count": 883,
   "id": "c8487756",
   "metadata": {},
   "outputs": [
    {
     "data": {
      "text/plain": [
       "(numpy.ndarray, numpy.ndarray, (5, 3), (5,))"
      ]
     },
     "execution_count": 883,
     "metadata": {},
     "output_type": "execute_result"
    }
   ],
   "source": [
    "type(x), type(y), x.shape, y.shape"
   ]
  },
  {
   "cell_type": "code",
   "execution_count": 884,
   "id": "63c941f8",
   "metadata": {},
   "outputs": [
    {
     "data": {
      "text/plain": [
       "array([[ 1.66658025, -0.50969289,  0.70933297],\n",
       "       [-0.97363838,  0.05525179, -0.61940319],\n",
       "       [ 0.75000451, -0.64265357, -0.87619913],\n",
       "       [-0.42874548,  0.13175676,  0.61241521],\n",
       "       [ 0.09948973,  0.01404575,  0.55667279]])"
      ]
     },
     "execution_count": 884,
     "metadata": {},
     "output_type": "execute_result"
    }
   ],
   "source": [
    "x"
   ]
  },
  {
   "cell_type": "code",
   "execution_count": 885,
   "id": "59e439d8",
   "metadata": {},
   "outputs": [
    {
     "data": {
      "text/plain": [
       "(array([[-0.25739745],\n",
       "        [-0.81808196],\n",
       "        [-0.57732708],\n",
       "        [-0.35284136],\n",
       "        [ 0.02847407],\n",
       "        [ 0.05064062],\n",
       "        [-0.69338889],\n",
       "        [-0.24023115],\n",
       "        [ 0.7832574 ],\n",
       "        [-1.15314365]]),\n",
       " array([-14.61105198, -23.55281434, -15.20390106,  -7.09938382,\n",
       "          4.41488582,   3.00922461, -22.0444287 , -14.54922655,\n",
       "         30.49870518, -30.83985542]))"
      ]
     },
     "execution_count": 885,
     "metadata": {},
     "output_type": "execute_result"
    }
   ],
   "source": [
    "regression_data = make_regression(n_samples=10, n_features=1, noise=5)\n",
    "x, y = regression_data\n",
    "x, y"
   ]
  },
  {
   "cell_type": "code",
   "execution_count": 886,
   "id": "2843c1dc",
   "metadata": {},
   "outputs": [],
   "source": [
    "import matplotlib.pyplot as plt"
   ]
  },
  {
   "cell_type": "code",
   "execution_count": 887,
   "id": "496cc9bb",
   "metadata": {},
   "outputs": [
    {
     "data": {
      "text/plain": [
       "<matplotlib.collections.PathCollection at 0x12184afd0>"
      ]
     },
     "execution_count": 887,
     "metadata": {},
     "output_type": "execute_result"
    },
    {
     "data": {
      "image/png": "[encoded data removed]",
      "text/plain": [
       "<Figure size 640x480 with 1 Axes>"
      ]
     },
     "metadata": {},
     "output_type": "display_data"
    }
   ],
   "source": [
    "plt.scatter(x, y, c=\"red\")\n",
    "# plt.plot(x, y)"
   ]
  },
  {
   "cell_type": "code",
   "execution_count": 888,
   "id": "cf1f8ef5",
   "metadata": {},
   "outputs": [
    {
     "data": {
      "text/plain": [
       "(array([[-0.25739745],\n",
       "        [-0.81808196],\n",
       "        [-0.57732708],\n",
       "        [-0.35284136],\n",
       "        [ 0.02847407],\n",
       "        [ 0.05064062],\n",
       "        [-0.69338889],\n",
       "        [-0.24023115],\n",
       "        [ 0.7832574 ],\n",
       "        [-1.15314365]]),\n",
       " array([-14.61105198, -23.55281434, -15.20390106,  -7.09938382,\n",
       "          4.41488582,   3.00922461, -22.0444287 , -14.54922655,\n",
       "         30.49870518, -30.83985542]))"
      ]
     },
     "execution_count": 888,
     "metadata": {},
     "output_type": "execute_result"
    }
   ],
   "source": [
    "x, y"
   ]
  },
  {
   "cell_type": "code",
   "execution_count": 889,
   "id": "2a30b8dd",
   "metadata": {},
   "outputs": [],
   "source": [
    "from scipy import stats"
   ]
  },
  {
   "cell_type": "code",
   "execution_count": 891,
   "id": "5fd0aaef",
   "metadata": {},
   "outputs": [
    {
     "data": {
      "text/plain": [
       "(10, 1)"
      ]
     },
     "execution_count": 891,
     "metadata": {},
     "output_type": "execute_result"
    }
   ],
   "source": [
    "x.shape"
   ]
  },
  {
   "cell_type": "code",
   "execution_count": 892,
   "id": "5a932dcd",
   "metadata": {},
   "outputs": [
    {
     "data": {
      "text/plain": [
       "array([-0.25739745, -0.81808196, -0.57732708, -0.35284136,  0.02847407,\n",
       "        0.05064062, -0.69338889, -0.24023115,  0.7832574 , -1.15314365])"
      ]
     },
     "execution_count": 892,
     "metadata": {},
     "output_type": "execute_result"
    }
   ],
   "source": [
    "x.flatten()"
   ]
  },
  {
   "cell_type": "code",
   "execution_count": 894,
   "id": "2b293abe",
   "metadata": {},
   "outputs": [
    {
     "data": {
      "text/plain": [
       "LinregressResult(slope=np.float64(31.785477901634742), intercept=np.float64(1.2690501043663343), rvalue=np.float64(0.9669103959481483), pvalue=np.float64(5.039578507461713e-06), stderr=np.float64(2.965074401809887), intercept_stderr=np.float64(1.7983174955017196))"
      ]
     },
     "execution_count": 894,
     "metadata": {},
     "output_type": "execute_result"
    }
   ],
   "source": [
    "reg_result = stats.linregress(x.flatten(), y)\n",
    "reg_result"
   ]
  },
  {
   "cell_type": "code",
   "execution_count": 896,
   "id": "417cc425",
   "metadata": {},
   "outputs": [
    {
     "data": {
      "text/plain": [
       "[<matplotlib.lines.Line2D at 0x12196de50>]"
      ]
     },
     "execution_count": 896,
     "metadata": {},
     "output_type": "execute_result"
    },
    {
     "data": {
      "image/png": "[encoded data removed]",
      "text/plain": [
       "<Figure size 640x480 with 1 Axes>"
      ]
     },
     "metadata": {},
     "output_type": "display_data"
    }
   ],
   "source": [
    "plt.scatter(x, y, c=\"red\")\n",
    "plt.plot(x, x * reg_result.slope + reg_result.intercept, c=\"green\")"
   ]
  },
  {
   "cell_type": "code",
   "execution_count": null,
   "id": "e29eabb0",
   "metadata": {},
   "outputs": [],
   "source": []
  },
  {
   "cell_type": "code",
   "execution_count": 899,
   "id": "7c81aab9",
   "metadata": {},
   "outputs": [
    {
     "data": {
      "text/plain": [
       "[<matplotlib.lines.Line2D at 0x121b18050>]"
      ]
     },
     "execution_count": 899,
     "metadata": {},
     "output_type": "execute_result"
    },
    {
     "data": {
      "image/png": "[encoded data removed]",
      "text/plain": [
       "<Figure size 640x480 with 1 Axes>"
      ]
     },
     "metadata": {},
     "output_type": "display_data"
    }
   ],
   "source": [
    "plt.scatter(x, y, c=\"#6CDC17\")\n",
    "plt.plot(x, x * reg_result.slope + reg_result.intercept, c=\"#5858AC\")"
   ]
  },
  {
   "cell_type": "code",
   "execution_count": null,
   "id": "be2b070a",
   "metadata": {},
   "outputs": [],
   "source": []
  }
 ],
 "metadata": {
  "kernelspec": {
   "display_name": "Python 3",
   "language": "python",
   "name": "python3"
  },
  "language_info": {
   "codemirror_mode": {
    "name": "ipython",
    "version": 3
   },
   "file_extension": ".py",
   "mimetype": "text/x-python",
   "name": "python",
   "nbconvert_exporter": "python",
   "pygments_lexer": "ipython3",
   "version": "3.13.7"
  }
 },
 "nbformat": 4,
 "nbformat_minor": 5
}
