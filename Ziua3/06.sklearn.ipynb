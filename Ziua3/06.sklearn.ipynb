{
 "cells": [
  {
   "cell_type": "code",
   "execution_count": null,
   "id": "090b1474",
   "metadata": {},
   "outputs": [],
   "source": [
    "from sklearn.neural_network import _stochastic_optimizers"
   ]
  }
 ],
 "metadata": {
  "language_info": {
   "name": "python"
  }
 },
 "nbformat": 4,
 "nbformat_minor": 5
}
