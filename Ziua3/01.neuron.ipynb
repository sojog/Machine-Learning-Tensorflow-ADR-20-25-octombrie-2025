{
 "cells": [
  {
   "cell_type": "code",
   "execution_count": 2,
   "id": "1bb5f6ed",
   "metadata": {},
   "outputs": [
    {
     "name": "stdout",
     "output_type": "stream",
     "text": [
      "1 and 1: 1\n",
      "0 and 1: 0\n",
      "1 and 0: 0\n",
      "0 and 0: 0\n"
     ]
    }
   ],
   "source": [
    "print(\"1 and 1:\", 1 and 1)\n",
    "print(\"0 and 1:\", 0 and 1)\n",
    "print(\"1 and 0:\", 1 and 0)\n",
    "print(\"0 and 0:\", 0 and 0)"
   ]
  },
  {
   "cell_type": "code",
   "execution_count": null,
   "id": "75c6d13c",
   "metadata": {},
   "outputs": [],
   "source": [
    "def AND_CLASIC(x1, x2):\n",
    "    return int(x1  and x2)"
   ]
  },
  {
   "cell_type": "code",
   "execution_count": 5,
   "id": "68e5bd2c",
   "metadata": {},
   "outputs": [
    {
     "data": {
      "text/plain": [
       "1"
      ]
     },
     "execution_count": 5,
     "metadata": {},
     "output_type": "execute_result"
    }
   ],
   "source": [
    "AND_CLASIC(1, 1)"
   ]
  },
  {
   "cell_type": "code",
   "execution_count": 6,
   "id": "10fcb7bf",
   "metadata": {},
   "outputs": [],
   "source": [
    "def AND(x1, x2):\n",
    "    w1, w2, b = 0, 0, 0\n",
    "    return (x1 * w1 + x2 * w2 + b)"
   ]
  },
  {
   "cell_type": "code",
   "execution_count": 8,
   "id": "9a4519e0",
   "metadata": {},
   "outputs": [
    {
     "data": {
      "text/plain": [
       "(0, 0, 0, 0)"
      ]
     },
     "execution_count": 8,
     "metadata": {},
     "output_type": "execute_result"
    }
   ],
   "source": [
    "AND(1, 1), AND(1, 0), AND(0, 1), AND(0, 0) "
   ]
  },
  {
   "cell_type": "code",
   "execution_count": 10,
   "id": "a1a1e9ad",
   "metadata": {},
   "outputs": [
    {
     "name": "stdout",
     "output_type": "stream",
     "text": [
      "4.5 0.5 4.3 0.3\n",
      "1 0 0 0\n"
     ]
    }
   ],
   "source": [
    "def AND(x1, x2):\n",
    "    w1, w2, b = 0.2, 4, 0.3\n",
    "    return (x1 * w1 + x2 * w2 + b)\n",
    "\n",
    "print(AND(1, 1), AND(1, 0), AND(0, 1), AND(0, 0) )\n",
    "print(AND_CLASIC(1, 1), AND_CLASIC(1, 0), AND_CLASIC(0, 1), AND_CLASIC(0, 0) )"
   ]
  },
  {
   "cell_type": "markdown",
   "id": "8804b5ea",
   "metadata": {},
   "source": [
    "# Cu cat ponderile sunt mai mari cu atat rezultatul este mai departe de 0, 1"
   ]
  },
  {
   "cell_type": "code",
   "execution_count": 11,
   "id": "52df919f",
   "metadata": {},
   "outputs": [
    {
     "name": "stdout",
     "output_type": "stream",
     "text": [
      "204.3 200.3 4.3 0.3\n",
      "1 0 0 0\n"
     ]
    }
   ],
   "source": [
    "def AND(x1, x2):\n",
    "    w1, w2, b = 200, 4, 0.3\n",
    "    return (x1 * w1 + x2 * w2 + b)\n",
    "\n",
    "print(AND(1, 1), AND(1, 0), AND(0, 1), AND(0, 0) )\n",
    "print(AND_CLASIC(1, 1), AND_CLASIC(1, 0), AND_CLASIC(0, 1), AND_CLASIC(0, 0) )"
   ]
  },
  {
   "cell_type": "markdown",
   "id": "f8941322",
   "metadata": {},
   "source": [
    "# ! ML functioneaza foarte bine cu valori float apropiat de 0, 1"
   ]
  },
  {
   "cell_type": "code",
   "execution_count": 12,
   "id": "cbd48c0e",
   "metadata": {},
   "outputs": [],
   "source": [
    "def functie_activare(input):\n",
    "    return 1 if input > 0 else 0"
   ]
  },
  {
   "cell_type": "code",
   "execution_count": 16,
   "id": "edbcc2f8",
   "metadata": {},
   "outputs": [
    {
     "data": {
      "text/plain": [
       "(1, 1, 0, 0)"
      ]
     },
     "execution_count": 16,
     "metadata": {},
     "output_type": "execute_result"
    }
   ],
   "source": [
    "functie_activare(200), functie_activare(30032), functie_activare(-321), functie_activare(-1)"
   ]
  },
  {
   "cell_type": "code",
   "execution_count": 18,
   "id": "c1c5ac7c",
   "metadata": {},
   "outputs": [
    {
     "name": "stdout",
     "output_type": "stream",
     "text": [
      "rezultatul creat: 1 1 1 1\n",
      "rezultatul optim: 1 0 0 0\n"
     ]
    }
   ],
   "source": [
    "def functie_activare(input):\n",
    "    return 1 if input > 0 else 0\n",
    "\n",
    "def AND(x1, x2):\n",
    "    w1, w2, b = 200, 4, 0.3\n",
    "    calculat =  (x1 * w1 + x2 * w2 + b)\n",
    "    return functie_activare(calculat)\n",
    "\n",
    "print(\"rezultatul creat:\", AND(1, 1), AND(1, 0), AND(0, 1), AND(0, 0) )\n",
    "print(\"rezultatul optim:\",AND_CLASIC(1, 1), AND_CLASIC(1, 0), AND_CLASIC(0, 1), AND_CLASIC(0, 0) )"
   ]
  },
  {
   "cell_type": "markdown",
   "id": "587bdfd0",
   "metadata": {},
   "source": [
    "# Ramane sa ajustam ponderile"
   ]
  },
  {
   "cell_type": "code",
   "execution_count": 19,
   "id": "0522f605",
   "metadata": {},
   "outputs": [
    {
     "name": "stdout",
     "output_type": "stream",
     "text": [
      "rezultatul creat: 1 0 1 1\n",
      "rezultatul optim: 1 0 0 0\n"
     ]
    }
   ],
   "source": [
    "def functie_activare(input):\n",
    "    return 1 if input > 0 else 0\n",
    "\n",
    "def AND(x1, x2):\n",
    "    w1, w2, b = -3, 4, 0.3\n",
    "    calculat =  (x1 * w1 + x2 * w2 + b)\n",
    "    return functie_activare(calculat)\n",
    "\n",
    "print(\"rezultatul creat:\", AND(1, 1), AND(1, 0), AND(0, 1), AND(0, 0) )\n",
    "print(\"rezultatul optim:\",AND_CLASIC(1, 1), AND_CLASIC(1, 0), AND_CLASIC(0, 1), AND_CLASIC(0, 0) )"
   ]
  },
  {
   "cell_type": "code",
   "execution_count": 20,
   "id": "f1c8fa1a",
   "metadata": {},
   "outputs": [
    {
     "name": "stdout",
     "output_type": "stream",
     "text": [
      "rezultatul creat: 0 0 0 1\n",
      "rezultatul optim: 1 0 0 0\n"
     ]
    }
   ],
   "source": [
    "def functie_activare(input):\n",
    "    return 1 if input > 0 else 0\n",
    "\n",
    "def AND(x1, x2):\n",
    "    w1, w2, b = -3, -4, 0.3\n",
    "    calculat =  (x1 * w1 + x2 * w2 + b)\n",
    "    return functie_activare(calculat)\n",
    "\n",
    "print(\"rezultatul creat:\", AND(1, 1), AND(1, 0), AND(0, 1), AND(0, 0) )\n",
    "print(\"rezultatul optim:\",AND_CLASIC(1, 1), AND_CLASIC(1, 0), AND_CLASIC(0, 1), AND_CLASIC(0, 0) )"
   ]
  },
  {
   "cell_type": "code",
   "execution_count": 21,
   "id": "3c1d0d10",
   "metadata": {},
   "outputs": [
    {
     "name": "stdout",
     "output_type": "stream",
     "text": [
      "rezultatul creat: 0 0 0 1\n",
      "rezultatul optim: 1 0 0 0\n"
     ]
    }
   ],
   "source": [
    "def functie_activare(input):\n",
    "    return 1 if input > 0 else 0\n",
    "\n",
    "def AND(x1, x2):\n",
    "    w1, w2, b = -1, -1, 0.3\n",
    "    calculat =  (x1 * w1 + x2 * w2 + b)\n",
    "    return functie_activare(calculat)\n",
    "\n",
    "print(\"rezultatul creat:\", AND(1, 1), AND(1, 0), AND(0, 1), AND(0, 0) )\n",
    "print(\"rezultatul optim:\",AND_CLASIC(1, 1), AND_CLASIC(1, 0), AND_CLASIC(0, 1), AND_CLASIC(0, 0) )"
   ]
  },
  {
   "cell_type": "code",
   "execution_count": 22,
   "id": "33dae5b8",
   "metadata": {},
   "outputs": [
    {
     "name": "stdout",
     "output_type": "stream",
     "text": [
      "rezultatul creat: 1 1 1 0\n",
      "rezultatul optim: 1 0 0 0\n"
     ]
    }
   ],
   "source": [
    "def functie_activare(input):\n",
    "    return 1 if input > 0 else 0\n",
    "\n",
    "def AND(x1, x2):\n",
    "    w1, w2, b = 1, 1, -0.3\n",
    "    calculat =  (x1 * w1 + x2 * w2 + b)\n",
    "    return functie_activare(calculat)\n",
    "\n",
    "print(\"rezultatul creat:\", AND(1, 1), AND(1, 0), AND(0, 1), AND(0, 0) )\n",
    "print(\"rezultatul optim:\",AND_CLASIC(1, 1), AND_CLASIC(1, 0), AND_CLASIC(0, 1), AND_CLASIC(0, 0) )"
   ]
  },
  {
   "cell_type": "code",
   "execution_count": null,
   "id": "0abc9d80",
   "metadata": {},
   "outputs": [],
   "source": [
    "def functie_activare(input):\n",
    "    return 1 if input > 0 else 0\n",
    "\n",
    "def AND(x1, x2):\n",
    "    w1, w2, b = 1, 1, 0.3\n",
    "    calculat =  (x1 * w1 + x2 * w2 + b)\n",
    "    return functie_activare(calculat)\n",
    "\n",
    "print(\"rezultatul creat:\", AND(1, 1), AND(1, 0), AND(0, 1), AND(0, 0) )\n",
    "print(\"rezultatul optim:\",AND_CLASIC(1, 1), AND_CLASIC(1, 0), AND_CLASIC(0, 1), AND_CLASIC(0, 0) )"
   ]
  },
  {
   "cell_type": "code",
   "execution_count": null,
   "id": "1e86dcc6",
   "metadata": {},
   "outputs": [],
   "source": [
    "# 1.\n",
    "w1 = 1, w2 = 1, x1 = 1, x2= 1, b = -0.3\n",
    "w1 * x1 + w2 * x2 + b > 0\n",
    "2 + b > 0\n",
    "\n",
    "2.\n",
    "w1 = 0, w2 = 1, x1 = 1, x2= 1, b = 0.3\n",
    "w1 * x1 + w2 * x2 + b < 0\n",
    "1 + b < 0\n"
   ]
  },
  {
   "cell_type": "code",
   "execution_count": null,
   "id": "8a4750f7",
   "metadata": {},
   "outputs": [
    {
     "name": "stdout",
     "output_type": "stream",
     "text": [
      "rezultatul creat: 1 0 0 0\n",
      "rezultatul optim: 1 0 0 0\n"
     ]
    }
   ],
   "source": [
    "def functie_activare(input):\n",
    "    return 1 if input > 0 else 0\n",
    "\n",
    "def AND(x1, x2):\n",
    "    w1, w2, b = 1, 1, -1.1\n",
    "    calculat =  (x1 * w1 + x2 * w2 + b)\n",
    "    return functie_activare(calculat)\n",
    "\n",
    "print(\"rezultatul creat:\", AND(1, 1), AND(1, 0), AND(0, 1), AND(0, 0) )\n",
    "print(\"rezultatul optim:\",AND_CLASIC(1, 1), AND_CLASIC(1, 0), AND_CLASIC(0, 1), AND_CLASIC(0, 0) ) # Rezultatul clasic - label-urile adevarate"
   ]
  },
  {
   "cell_type": "markdown",
   "id": "a56c7888",
   "metadata": {},
   "source": [
    "## Dupa aceeasi logica, facem OR \n"
   ]
  },
  {
   "cell_type": "code",
   "execution_count": null,
   "id": "ce0e6f70",
   "metadata": {},
   "outputs": [
    {
     "name": "stdout",
     "output_type": "stream",
     "text": [
      "rezultatul creat: 1 0 0 0\n",
      "rezultatul optim: 1 1 1 0\n"
     ]
    }
   ],
   "source": [
    "def OR_CLASIC(x1, x2):\n",
    "    return int(x1  or x2)\n",
    "\n",
    "def OR(x1, x2):\n",
    "    w1, w2, b = 1, 1, -1.1\n",
    "    calculat =  (x1 * w1 + x2 * w2 + b)\n",
    "    return functie_activare(calculat)\n",
    "\n",
    "\n",
    "print(\"rezultatul creat:\", OR(1, 1), OR(1, 0), OR(0, 1), OR(0, 0) )\n",
    "print(\"rezultatul optim:\",OR_CLASIC(1, 1), OR_CLASIC(1, 0), OR_CLASIC(0, 1), OR_CLASIC(0, 0) )"
   ]
  },
  {
   "cell_type": "code",
   "execution_count": null,
   "id": "1d6e8b98",
   "metadata": {},
   "outputs": [],
   "source": [
    "# 1.\n",
    "w1 = 1, w2 = 1, x1 = 1, x2= 1, b = -0.3\n",
    "w1 * x1 + w2 * x2 + b > 0\n",
    "2 + b > 0\n",
    "\n",
    "# 2.\n",
    "w1 = 1, w2 = 1, x1 = 0, x2= 1, b = 0.3\n",
    "w1 * x1 + w2 * x2 + b < 0\n",
    "1 + b > 0\n",
    "\n",
    "w1 = 1, w2 = 1, x1 = 0, x2= 0, b = 0.3\n",
    "w1 * x1 + w2 * x2 + b < 0\n",
    "0 + b < 0"
   ]
  },
  {
   "cell_type": "code",
   "execution_count": null,
   "id": "f706e312",
   "metadata": {},
   "outputs": [
    {
     "name": "stdout",
     "output_type": "stream",
     "text": [
      "rezultatul creat: 1 1 1 0\n",
      "rezultatul optim: 1 1 1 0\n"
     ]
    }
   ],
   "source": [
    "def OR_CLASIC(x1, x2):\n",
    "    return int(x1  or x2)\n",
    "\n",
    "def OR(x1, x2):\n",
    "    w1, w2, b = 1, 1, -0.5\n",
    "    calculat =  (x1 * w1 + x2 * w2 + b)\n",
    "    return functie_activare(calculat)\n",
    "\n",
    "\n",
    "print(\"rezultatul creat:\", OR(1, 1), OR(1, 0), OR(0, 1), OR(0, 0) )\n",
    "print(\"rezultatul optim:\",OR_CLASIC(1, 1), OR_CLASIC(1, 0), OR_CLASIC(0, 1), OR_CLASIC(0, 0) ) # Rezultatul clasic - label-urile adevarate"
   ]
  }
 ],
 "metadata": {
  "kernelspec": {
   "display_name": "Python 3",
   "language": "python",
   "name": "python3"
  },
  "language_info": {
   "codemirror_mode": {
    "name": "ipython",
    "version": 3
   },
   "file_extension": ".py",
   "mimetype": "text/x-python",
   "name": "python",
   "nbconvert_exporter": "python",
   "pygments_lexer": "ipython3",
   "version": "3.13.7"
  }
 },
 "nbformat": 4,
 "nbformat_minor": 5
}
