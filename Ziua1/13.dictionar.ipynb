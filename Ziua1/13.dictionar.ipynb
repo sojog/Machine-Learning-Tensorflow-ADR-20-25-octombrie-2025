{
 "cells": [
  {
   "cell_type": "code",
   "execution_count": 1,
   "id": "12994123",
   "metadata": {},
   "outputs": [
    {
     "name": "stdout",
     "output_type": "stream",
     "text": [
      "<class 'dict'>\n"
     ]
    }
   ],
   "source": [
    "d = { }\n",
    "print(type(d))"
   ]
  },
  {
   "cell_type": "code",
   "execution_count": 2,
   "id": "3f1e5449",
   "metadata": {},
   "outputs": [
    {
     "name": "stdout",
     "output_type": "stream",
     "text": [
      "<class 'dict'>\n"
     ]
    }
   ],
   "source": [
    "d = { \"cheie\" : 'valoare' }\n",
    "print(type(d))"
   ]
  },
  {
   "cell_type": "code",
   "execution_count": 4,
   "id": "64b70784",
   "metadata": {},
   "outputs": [
    {
     "name": "stdout",
     "output_type": "stream",
     "text": [
      "cheie valoare\n"
     ]
    }
   ],
   "source": [
    "for i in d:\n",
    "    print(i, d[i])"
   ]
  },
  {
   "cell_type": "code",
   "execution_count": 5,
   "id": "aacb37fa",
   "metadata": {},
   "outputs": [],
   "source": [
    "dictionar = { \"temperatura\": 20, \"zi\": \"luni\", \"luna\":\"octombrie\"}"
   ]
  },
  {
   "cell_type": "code",
   "execution_count": 6,
   "id": "d92140b9",
   "metadata": {},
   "outputs": [
    {
     "data": {
      "text/plain": [
       "20"
      ]
     },
     "execution_count": 6,
     "metadata": {},
     "output_type": "execute_result"
    }
   ],
   "source": [
    "dictionar[\"temperatura\"]"
   ]
  },
  {
   "cell_type": "markdown",
   "id": "800f202c",
   "metadata": {},
   "source": [
    "! Folosesc cheia sa intorc valoarea si nu invers!"
   ]
  },
  {
   "cell_type": "code",
   "execution_count": 7,
   "id": "87b30898",
   "metadata": {},
   "outputs": [
    {
     "ename": "KeyError",
     "evalue": "20",
     "output_type": "error",
     "traceback": [
      "\u001b[31m---------------------------------------------------------------------------\u001b[39m",
      "\u001b[31mKeyError\u001b[39m                                  Traceback (most recent call last)",
      "\u001b[36mCell\u001b[39m\u001b[36m \u001b[39m\u001b[32mIn[7]\u001b[39m\u001b[32m, line 1\u001b[39m\n\u001b[32m----> \u001b[39m\u001b[32m1\u001b[39m \u001b[43mdictionar\u001b[49m\u001b[43m[\u001b[49m\u001b[32;43m20\u001b[39;49m\u001b[43m]\u001b[49m\n",
      "\u001b[31mKeyError\u001b[39m: 20"
     ]
    }
   ],
   "source": [
    "dictionar[20]"
   ]
  },
  {
   "cell_type": "code",
   "execution_count": null,
   "id": "70513013",
   "metadata": {},
   "outputs": [],
   "source": []
  }
 ],
 "metadata": {
  "kernelspec": {
   "display_name": "Python 3",
   "language": "python",
   "name": "python3"
  },
  "language_info": {
   "codemirror_mode": {
    "name": "ipython",
    "version": 3
   },
   "file_extension": ".py",
   "mimetype": "text/x-python",
   "name": "python",
   "nbconvert_exporter": "python",
   "pygments_lexer": "ipython3",
   "version": "3.13.7"
  }
 },
 "nbformat": 4,
 "nbformat_minor": 5
}
