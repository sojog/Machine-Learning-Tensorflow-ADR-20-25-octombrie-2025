{
 "cells": [
  {
   "cell_type": "code",
   "execution_count": 1,
   "id": "b983c4e2",
   "metadata": {},
   "outputs": [
    {
     "name": "stdout",
     "output_type": "stream",
     "text": [
      "[101, 202, 303]\n"
     ]
    }
   ],
   "source": [
    "x = [101, 202, 303]\n",
    "print(x)\n"
   ]
  },
  {
   "cell_type": "code",
   "execution_count": 4,
   "id": "51047458",
   "metadata": {},
   "outputs": [
    {
     "name": "stdout",
     "output_type": "stream",
     "text": [
      "3\n"
     ]
    }
   ],
   "source": [
    "print(len(x))"
   ]
  },
  {
   "cell_type": "code",
   "execution_count": 3,
   "id": "038441b9",
   "metadata": {},
   "outputs": [
    {
     "data": {
      "text/plain": [
       "3"
      ]
     },
     "execution_count": 3,
     "metadata": {},
     "output_type": "execute_result"
    }
   ],
   "source": [
    "len(x)"
   ]
  },
  {
   "cell_type": "code",
   "execution_count": 5,
   "id": "619a26c6",
   "metadata": {},
   "outputs": [
    {
     "name": "stdout",
     "output_type": "stream",
     "text": [
      "[101, 202, 303, 'salutare']\n"
     ]
    }
   ],
   "source": [
    "x.append(\"salutare\")\n",
    "print(x)"
   ]
  },
  {
   "cell_type": "code",
   "execution_count": 6,
   "id": "b8e99022",
   "metadata": {},
   "outputs": [
    {
     "name": "stdout",
     "output_type": "stream",
     "text": [
      "[101, 202, 303, 'salutare', [...]]\n"
     ]
    }
   ],
   "source": [
    "x.append( x )\n",
    "print(x)"
   ]
  },
  {
   "cell_type": "code",
   "execution_count": 8,
   "id": "8136ef91",
   "metadata": {},
   "outputs": [
    {
     "data": {
      "text/plain": [
       "[]"
      ]
     },
     "execution_count": 8,
     "metadata": {},
     "output_type": "execute_result"
    }
   ],
   "source": [
    "x.clear()\n",
    "x"
   ]
  },
  {
   "cell_type": "code",
   "execution_count": 9,
   "id": "029236a2",
   "metadata": {},
   "outputs": [
    {
     "data": {
      "text/plain": [
       "[11011, 22022, 3033, 4444, 55555, 66667, 7777]"
      ]
     },
     "execution_count": 9,
     "metadata": {},
     "output_type": "execute_result"
    }
   ],
   "source": [
    "x = [11011, 22022, 3033, 4444, 55555, 66667, 7777]\n",
    "x"
   ]
  },
  {
   "cell_type": "code",
   "execution_count": 11,
   "id": "8d866ff8",
   "metadata": {},
   "outputs": [
    {
     "data": {
      "text/plain": [
       "(11011, 4444)"
      ]
     },
     "execution_count": 11,
     "metadata": {},
     "output_type": "execute_result"
    }
   ],
   "source": [
    "x[0], x[3]"
   ]
  },
  {
   "cell_type": "code",
   "execution_count": 13,
   "id": "c1ba95e3",
   "metadata": {},
   "outputs": [
    {
     "data": {
      "text/plain": [
       "[11011, 22022, 3033]"
      ]
     },
     "execution_count": 13,
     "metadata": {},
     "output_type": "execute_result"
    }
   ],
   "source": [
    "# slice - bucata din lista\n",
    "x[0 : 3]"
   ]
  },
  {
   "cell_type": "code",
   "execution_count": 14,
   "id": "f51e8aa6",
   "metadata": {},
   "outputs": [
    {
     "data": {
      "text/plain": [
       "[55555, 66667]"
      ]
     },
     "execution_count": 14,
     "metadata": {},
     "output_type": "execute_result"
    }
   ],
   "source": [
    "x[-3 : -1]"
   ]
  },
  {
   "cell_type": "code",
   "execution_count": 16,
   "id": "f2a1fbca",
   "metadata": {},
   "outputs": [
    {
     "data": {
      "text/plain": [
       "[55555, 66667, 7777]"
      ]
     },
     "execution_count": 16,
     "metadata": {},
     "output_type": "execute_result"
    }
   ],
   "source": [
    "# Ultimele 3\n",
    "x[-3 : ]"
   ]
  },
  {
   "cell_type": "markdown",
   "id": "80486254",
   "metadata": {},
   "source": [
    "Markdown-ul este un fel de comentariu"
   ]
  },
  {
   "cell_type": "code",
   "execution_count": 17,
   "id": "32cdb51c",
   "metadata": {},
   "outputs": [
    {
     "name": "stdout",
     "output_type": "stream",
     "text": [
      "11011\n",
      "22022\n",
      "3033\n",
      "4444\n",
      "55555\n",
      "66667\n",
      "7777\n"
     ]
    }
   ],
   "source": [
    "\n",
    "for i in x:\n",
    "    print(i)\n"
   ]
  }
 ],
 "metadata": {
  "kernelspec": {
   "display_name": "Python 3",
   "language": "python",
   "name": "python3"
  },
  "language_info": {
   "codemirror_mode": {
    "name": "ipython",
    "version": 3
   },
   "file_extension": ".py",
   "mimetype": "text/x-python",
   "name": "python",
   "nbconvert_exporter": "python",
   "pygments_lexer": "ipython3",
   "version": "3.13.7"
  }
 },
 "nbformat": 4,
 "nbformat_minor": 5
}
