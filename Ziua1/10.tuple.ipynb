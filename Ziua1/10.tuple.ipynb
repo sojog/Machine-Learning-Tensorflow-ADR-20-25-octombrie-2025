{
 "cells": [
  {
   "cell_type": "code",
   "execution_count": 1,
   "id": "1f0abf2a",
   "metadata": {},
   "outputs": [
    {
     "name": "stdout",
     "output_type": "stream",
     "text": [
      "['alb', 'negru', 'verde'] <class 'list'>\n"
     ]
    }
   ],
   "source": [
    "o_lista = [\"alb\", \"negru\", \"verde\"]\n",
    "print(o_lista, type(o_lista))"
   ]
  },
  {
   "cell_type": "code",
   "execution_count": 2,
   "id": "7c677722",
   "metadata": {},
   "outputs": [
    {
     "name": "stdout",
     "output_type": "stream",
     "text": [
      "('alb', 'negru', 'verde') <class 'tuple'>\n"
     ]
    }
   ],
   "source": [
    "un_tuplu = (\"alb\", \"negru\", \"verde\")\n",
    "print(un_tuplu, type(un_tuplu))"
   ]
  },
  {
   "cell_type": "code",
   "execution_count": 3,
   "id": "b896f813",
   "metadata": {},
   "outputs": [
    {
     "data": {
      "text/plain": [
       "('alb', 'alb')"
      ]
     },
     "execution_count": 3,
     "metadata": {},
     "output_type": "execute_result"
    }
   ],
   "source": [
    "o_lista[0], un_tuplu[0]"
   ]
  },
  {
   "cell_type": "code",
   "execution_count": 4,
   "id": "1e2208c3",
   "metadata": {},
   "outputs": [
    {
     "data": {
      "text/plain": [
       "('verde', 'verde')"
      ]
     },
     "execution_count": 4,
     "metadata": {},
     "output_type": "execute_result"
    }
   ],
   "source": [
    "o_lista[-1], un_tuplu[-1]"
   ]
  },
  {
   "cell_type": "code",
   "execution_count": 5,
   "id": "ae855ffb",
   "metadata": {},
   "outputs": [
    {
     "data": {
      "text/plain": [
       "(3, 3)"
      ]
     },
     "execution_count": 5,
     "metadata": {},
     "output_type": "execute_result"
    }
   ],
   "source": [
    "len(o_lista), len(un_tuplu)"
   ]
  },
  {
   "cell_type": "code",
   "execution_count": 6,
   "id": "655bc67d",
   "metadata": {},
   "outputs": [],
   "source": [
    "o_lista.append(\"roz\")"
   ]
  },
  {
   "cell_type": "code",
   "execution_count": 7,
   "id": "ed12744d",
   "metadata": {},
   "outputs": [
    {
     "data": {
      "text/plain": [
       "['alb', 'negru', 'verde', 'roz']"
      ]
     },
     "execution_count": 7,
     "metadata": {},
     "output_type": "execute_result"
    }
   ],
   "source": [
    "o_lista"
   ]
  },
  {
   "cell_type": "markdown",
   "id": "f5e3f790",
   "metadata": {},
   "source": [
    "# TUPLU este imutabil - nu mai pot fi adaugate elemente in interior (eroare la append)"
   ]
  },
  {
   "cell_type": "code",
   "execution_count": 8,
   "id": "96cdaecd",
   "metadata": {},
   "outputs": [
    {
     "ename": "AttributeError",
     "evalue": "'tuple' object has no attribute 'append'",
     "output_type": "error",
     "traceback": [
      "\u001b[31m---------------------------------------------------------------------------\u001b[39m",
      "\u001b[31mAttributeError\u001b[39m                            Traceback (most recent call last)",
      "\u001b[36mCell\u001b[39m\u001b[36m \u001b[39m\u001b[32mIn[8]\u001b[39m\u001b[32m, line 1\u001b[39m\n\u001b[32m----> \u001b[39m\u001b[32m1\u001b[39m \u001b[43mun_tuplu\u001b[49m\u001b[43m.\u001b[49m\u001b[43mappend\u001b[49m(\u001b[33m\"\u001b[39m\u001b[33mroz\u001b[39m\u001b[33m\"\u001b[39m)\n",
      "\u001b[31mAttributeError\u001b[39m: 'tuple' object has no attribute 'append'"
     ]
    }
   ],
   "source": [
    "un_tuplu.append(\"roz\")"
   ]
  },
  {
   "cell_type": "code",
   "execution_count": 9,
   "id": "cf50d1f0",
   "metadata": {},
   "outputs": [
    {
     "data": {
      "text/plain": [
       "['alb', 'negru', 'verde', 'rosu']"
      ]
     },
     "execution_count": 9,
     "metadata": {},
     "output_type": "execute_result"
    }
   ],
   "source": [
    "o_lista[-1] = \"rosu\"\n",
    "o_lista"
   ]
  },
  {
   "cell_type": "code",
   "execution_count": 10,
   "id": "0912be31",
   "metadata": {},
   "outputs": [
    {
     "ename": "TypeError",
     "evalue": "'tuple' object does not support item assignment",
     "output_type": "error",
     "traceback": [
      "\u001b[31m---------------------------------------------------------------------------\u001b[39m",
      "\u001b[31mTypeError\u001b[39m                                 Traceback (most recent call last)",
      "\u001b[36mCell\u001b[39m\u001b[36m \u001b[39m\u001b[32mIn[10]\u001b[39m\u001b[32m, line 1\u001b[39m\n\u001b[32m----> \u001b[39m\u001b[32m1\u001b[39m \u001b[43mun_tuplu\u001b[49m\u001b[43m[\u001b[49m\u001b[43m-\u001b[49m\u001b[32;43m1\u001b[39;49m\u001b[43m]\u001b[49m = \u001b[33m\"\u001b[39m\u001b[33mrosu\u001b[39m\u001b[33m\"\u001b[39m\n\u001b[32m      2\u001b[39m un_tuplu\n",
      "\u001b[31mTypeError\u001b[39m: 'tuple' object does not support item assignment"
     ]
    }
   ],
   "source": [
    "un_tuplu[-1] = \"rosu\"\n",
    "un_tuplu"
   ]
  }
 ],
 "metadata": {
  "kernelspec": {
   "display_name": "Python 3",
   "language": "python",
   "name": "python3"
  },
  "language_info": {
   "codemirror_mode": {
    "name": "ipython",
    "version": 3
   },
   "file_extension": ".py",
   "mimetype": "text/x-python",
   "name": "python",
   "nbconvert_exporter": "python",
   "pygments_lexer": "ipython3",
   "version": "3.13.7"
  }
 },
 "nbformat": 4,
 "nbformat_minor": 5
}
