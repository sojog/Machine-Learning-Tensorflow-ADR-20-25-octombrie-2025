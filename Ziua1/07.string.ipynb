{
 "cells": [
  {
   "cell_type": "code",
   "execution_count": 1,
   "id": "89c9102f",
   "metadata": {},
   "outputs": [],
   "source": [
    "text = \"A fost odata ca niciodata\""
   ]
  },
  {
   "cell_type": "code",
   "execution_count": 2,
   "id": "30998196",
   "metadata": {},
   "outputs": [
    {
     "data": {
      "text/plain": [
       "25"
      ]
     },
     "execution_count": 2,
     "metadata": {},
     "output_type": "execute_result"
    }
   ],
   "source": [
    "len(text)"
   ]
  },
  {
   "cell_type": "code",
   "execution_count": 3,
   "id": "f3a33e86",
   "metadata": {},
   "outputs": [
    {
     "data": {
      "text/plain": [
       "'niciodata'"
      ]
     },
     "execution_count": 3,
     "metadata": {},
     "output_type": "execute_result"
    }
   ],
   "source": [
    "text[-9:]"
   ]
  },
  {
   "cell_type": "code",
   "execution_count": 4,
   "id": "57a26375",
   "metadata": {},
   "outputs": [
    {
     "data": {
      "text/plain": [
       "['A', 'fost', 'odata', 'ca', 'niciodata']"
      ]
     },
     "execution_count": 4,
     "metadata": {},
     "output_type": "execute_result"
    }
   ],
   "source": [
    "text.split()"
   ]
  },
  {
   "cell_type": "code",
   "execution_count": 6,
   "id": "d6f7c70c",
   "metadata": {},
   "outputs": [
    {
     "data": {
      "text/plain": [
       "['A', 'fost', 'odata', 'ca']"
      ]
     },
     "execution_count": 6,
     "metadata": {},
     "output_type": "execute_result"
    }
   ],
   "source": [
    "text.split()[:4]"
   ]
  },
  {
   "cell_type": "code",
   "execution_count": 7,
   "id": "e9705d2b",
   "metadata": {},
   "outputs": [
    {
     "data": {
      "text/plain": [
       "list"
      ]
     },
     "execution_count": 7,
     "metadata": {},
     "output_type": "execute_result"
    }
   ],
   "source": [
    "type(text.split()[:4])"
   ]
  },
  {
   "cell_type": "code",
   "execution_count": 8,
   "id": "b745fcfc",
   "metadata": {},
   "outputs": [
    {
     "data": {
      "text/plain": [
       "'A-fost-odata-ca'"
      ]
     },
     "execution_count": 8,
     "metadata": {},
     "output_type": "execute_result"
    }
   ],
   "source": [
    "\"-\".join(text.split()[:4])"
   ]
  },
  {
   "cell_type": "code",
   "execution_count": 9,
   "id": "7e2186e1",
   "metadata": {},
   "outputs": [
    {
     "data": {
      "text/plain": [
       "'A fost odata ca'"
      ]
     },
     "execution_count": 9,
     "metadata": {},
     "output_type": "execute_result"
    }
   ],
   "source": [
    "\" \".join(text.split()[:4])"
   ]
  }
 ],
 "metadata": {
  "kernelspec": {
   "display_name": "Python 3",
   "language": "python",
   "name": "python3"
  },
  "language_info": {
   "codemirror_mode": {
    "name": "ipython",
    "version": 3
   },
   "file_extension": ".py",
   "mimetype": "text/x-python",
   "name": "python",
   "nbconvert_exporter": "python",
   "pygments_lexer": "ipython3",
   "version": "3.13.7"
  }
 },
 "nbformat": 4,
 "nbformat_minor": 5
}
